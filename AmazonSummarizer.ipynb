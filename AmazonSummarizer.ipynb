{
 "cells": [
  {
   "cell_type": "code",
   "execution_count": 3,
   "id": "a58b119a-dcce-44cb-bc42-e0d80686b681",
   "metadata": {},
   "outputs": [],
   "source": [
    "import pandas as pd"
   ]
  },
  {
   "cell_type": "code",
   "execution_count": 1,
   "id": "369757a5-8d87-4f5b-96b8-bfae5aafc130",
   "metadata": {},
   "outputs": [],
   "source": [
    "from functions.cleaning import cleaningRetailOrderHistDF\n",
    "from functions.parsing import parseRetailOrderHistDtypes"
   ]
  },
  {
   "cell_type": "code",
   "execution_count": 4,
   "id": "fc74e2d7-067f-4021-bad6-f4c689483383",
   "metadata": {},
   "outputs": [],
   "source": [
    "RetailOrderHistDF = pd.read_csv(\"inputFiles/RetailOrderHistory.csv\")"
   ]
  },
  {
   "cell_type": "code",
   "execution_count": 5,
   "id": "4325ddd0-ae3a-4096-8605-62cc67438877",
   "metadata": {},
   "outputs": [
    {
     "data": {
      "text/plain": [
       "(372, 27)"
      ]
     },
     "execution_count": 5,
     "metadata": {},
     "output_type": "execute_result"
    }
   ],
   "source": [
    "#original shape\n",
    "RetailOrderHistDF.shape"
   ]
  },
  {
   "cell_type": "code",
   "execution_count": 6,
   "id": "a3e02400-3b1e-4db8-95d7-300ee03fb888",
   "metadata": {},
   "outputs": [],
   "source": [
    "RetailOrderHistDF = parseRetailOrderHistDtypes(cleaningRetailOrderHistDF(RetailOrderHistDF))"
   ]
  },
  {
   "cell_type": "code",
   "execution_count": 7,
   "id": "6ebda688-de0d-4efe-b9e9-a2bb547ba83c",
   "metadata": {},
   "outputs": [
    {
     "name": "stdout",
     "output_type": "stream",
     "text": [
      "<class 'pandas.core.frame.DataFrame'>\n",
      "Int64Index: 372 entries, 0 to 371\n",
      "Data columns (total 27 columns):\n",
      " #   Column                          Non-Null Count  Dtype              \n",
      "---  ------                          --------------  -----              \n",
      " 0   Website                         372 non-null    object             \n",
      " 1   Order ID                        372 non-null    object             \n",
      " 2   Order Date                      372 non-null    datetime64[ns, UTC]\n",
      " 3   Purchase Order Number           0 non-null      float64            \n",
      " 4   Currency                        372 non-null    object             \n",
      " 5   Unit Price                      372 non-null    float64            \n",
      " 6   Unit Price Tax                  372 non-null    float64            \n",
      " 7   Shipping Charge                 372 non-null    float64            \n",
      " 8   Total Discounts                 372 non-null    float64            \n",
      " 9   Total Owed                      372 non-null    float64            \n",
      " 10  Shipment Item Subtotal          372 non-null    float64            \n",
      " 11  Shipment Item Subtotal Tax      372 non-null    float64            \n",
      " 12  ASIN                            372 non-null    object             \n",
      " 13  Product Condition               372 non-null    object             \n",
      " 14  Quantity                        372 non-null    int64              \n",
      " 15  Payment Instrument Type         208 non-null    object             \n",
      " 16  Order Status                    372 non-null    object             \n",
      " 17  Shipment Status                 321 non-null    object             \n",
      " 18  Ship Date                       372 non-null    datetime64[ns, UTC]\n",
      " 19  Shipping Option                 322 non-null    object             \n",
      " 20  Shipping Address                320 non-null    object             \n",
      " 21  Billing Address                 354 non-null    object             \n",
      " 22  Carrier Name & Tracking Number  318 non-null    object             \n",
      " 23  Product Name                    372 non-null    object             \n",
      " 24  Gift Message                    13 non-null     object             \n",
      " 25  Gift Sender Name                0 non-null      float64            \n",
      " 26  Gift Recipient Contact Details  0 non-null      float64            \n",
      "dtypes: datetime64[ns, UTC](2), float64(10), int64(1), object(14)\n",
      "memory usage: 81.4+ KB\n"
     ]
    }
   ],
   "source": [
    "RetailOrderHistDF.info()"
   ]
  }
 ],
 "metadata": {
  "kernelspec": {
   "display_name": "Python 3 (ipykernel)",
   "language": "python",
   "name": "python3"
  },
  "language_info": {
   "codemirror_mode": {
    "name": "ipython",
    "version": 3
   },
   "file_extension": ".py",
   "mimetype": "text/x-python",
   "name": "python",
   "nbconvert_exporter": "python",
   "pygments_lexer": "ipython3",
   "version": "3.10.6"
  }
 },
 "nbformat": 4,
 "nbformat_minor": 5
}
