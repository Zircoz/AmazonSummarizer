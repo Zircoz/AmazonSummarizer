{
 "cells": [
  {
   "cell_type": "code",
   "execution_count": 1,
   "id": "a58b119a-dcce-44cb-bc42-e0d80686b681",
   "metadata": {},
   "outputs": [],
   "source": [
    "import pandas as pd"
   ]
  },
  {
   "cell_type": "code",
   "execution_count": 2,
   "id": "369757a5-8d87-4f5b-96b8-bfae5aafc130",
   "metadata": {},
   "outputs": [],
   "source": [
    "from functions.cleaning import cleaningRetailOrderHistDF\n",
    "from functions.parsing import parseRetailOrderHistDtypes"
   ]
  },
  {
   "cell_type": "code",
   "execution_count": 3,
   "id": "fc74e2d7-067f-4021-bad6-f4c689483383",
   "metadata": {},
   "outputs": [],
   "source": [
    "RetailOrderHistDF = pd.read_csv(\"D:\\ML wing\\Retail.OrderHistory.2.csv\")"
   ]
  },
  {
   "cell_type": "code",
   "execution_count": 4,
   "id": "4325ddd0-ae3a-4096-8605-62cc67438877",
   "metadata": {},
   "outputs": [
    {
     "data": {
      "text/plain": [
       "(30, 27)"
      ]
     },
     "execution_count": 4,
     "metadata": {},
     "output_type": "execute_result"
    }
   ],
   "source": [
    "#original shape\n",
    "RetailOrderHistDF.shape"
   ]
  },
  {
   "cell_type": "code",
   "execution_count": 5,
   "id": "6b09efff",
   "metadata": {},
   "outputs": [],
   "source": [
    "RetailOrderHistDF['Shipping Charge']=RetailOrderHistDF['Shipping Charge'].astype(float)"
   ]
  },
  {
   "cell_type": "code",
   "execution_count": 6,
   "id": "a3e02400-3b1e-4db8-95d7-300ee03fb888",
   "metadata": {},
   "outputs": [],
   "source": [
    "RetailOrderHistDF = parseRetailOrderHistDtypes(cleaningRetailOrderHistDF(RetailOrderHistDF))"
   ]
  },
  {
   "cell_type": "code",
   "execution_count": 7,
   "id": "6ebda688-de0d-4efe-b9e9-a2bb547ba83c",
   "metadata": {},
   "outputs": [
    {
     "name": "stdout",
     "output_type": "stream",
     "text": [
      "<class 'pandas.core.frame.DataFrame'>\n",
      "Int64Index: 30 entries, 0 to 29\n",
      "Data columns (total 27 columns):\n",
      " #   Column                          Non-Null Count  Dtype              \n",
      "---  ------                          --------------  -----              \n",
      " 0   Website                         30 non-null     object             \n",
      " 1   Order ID                        30 non-null     object             \n",
      " 2   Order Date                      30 non-null     datetime64[ns, UTC]\n",
      " 3   Purchase Order Number           0 non-null      float64            \n",
      " 4   Currency                        30 non-null     object             \n",
      " 5   Unit Price                      30 non-null     float64            \n",
      " 6   Unit Price Tax                  30 non-null     float64            \n",
      " 7   Shipping Charge                 30 non-null     float64            \n",
      " 8   Total Discounts                 30 non-null     float64            \n",
      " 9   Total Owed                      30 non-null     float64            \n",
      " 10  Shipment Item Subtotal          30 non-null     float64            \n",
      " 11  Shipment Item Subtotal Tax      30 non-null     float64            \n",
      " 12  ASIN                            30 non-null     object             \n",
      " 13  Product Condition               30 non-null     object             \n",
      " 14  Quantity                        30 non-null     int64              \n",
      " 15  Payment Instrument Type         4 non-null      object             \n",
      " 16  Order Status                    30 non-null     object             \n",
      " 17  Shipment Status                 28 non-null     object             \n",
      " 18  Ship Date                       30 non-null     datetime64[ns, UTC]\n",
      " 19  Shipping Option                 28 non-null     object             \n",
      " 20  Shipping Address                28 non-null     object             \n",
      " 21  Billing Address                 30 non-null     object             \n",
      " 22  Carrier Name & Tracking Number  26 non-null     object             \n",
      " 23  Product Name                    30 non-null     object             \n",
      " 24  Gift Message                    0 non-null      float64            \n",
      " 25  Gift Sender Name                0 non-null      float64            \n",
      " 26  Gift Recipient Contact Details  0 non-null      float64            \n",
      "dtypes: datetime64[ns, UTC](2), float64(11), int64(1), object(13)\n",
      "memory usage: 5.0+ KB\n"
     ]
    }
   ],
   "source": [
    "RetailOrderHistDF.info()"
   ]
  },
  {
   "cell_type": "code",
   "execution_count": 8,
   "id": "e46838d2",
   "metadata": {},
   "outputs": [],
   "source": [
    "from functions.average import averageSpending,monthly_spend"
   ]
  },
  {
   "cell_type": "code",
   "execution_count": 9,
   "id": "92f2a7be",
   "metadata": {},
   "outputs": [
    {
     "data": {
      "text/plain": [
       "402.84"
      ]
     },
     "execution_count": 9,
     "metadata": {},
     "output_type": "execute_result"
    }
   ],
   "source": [
    "average_spend=averageSpending(RetailOrderHistDF)\n",
    "average_spend"
   ]
  },
  {
   "cell_type": "code",
   "execution_count": 10,
   "id": "6b19bfde",
   "metadata": {},
   "outputs": [
    {
     "data": {
      "text/plain": [
       "Order Date\n",
       "August       605.177778\n",
       "February     369.000000\n",
       "July         339.750000\n",
       "June         477.500000\n",
       "May          175.666667\n",
       "October      749.000000\n",
       "September    130.666667\n",
       "Name: Total Owed, dtype: float64"
      ]
     },
     "execution_count": 10,
     "metadata": {},
     "output_type": "execute_result"
    }
   ],
   "source": [
    "monthly_spendigns=monthly_spend(RetailOrderHistDF)\n",
    "monthly_spendigns"
   ]
  },
  {
   "cell_type": "code",
   "execution_count": 11,
   "id": "8dfb28c6",
   "metadata": {},
   "outputs": [
    {
     "data": {
      "image/png": "[encoded data removed]",
      "text/plain": [
       "<Figure size 640x480 with 1 Axes>"
      ]
     },
     "metadata": {},
     "output_type": "display_data"
    }
   ],
   "source": [
    "from matplotlib import pyplot as plt\n",
    "plt.bar(x=monthly_spendigns.index,height=monthly_spendigns)\n",
    "plt.grid()"
   ]
  },
  {
   "cell_type": "code",
   "execution_count": null,
   "id": "550e26d4",
   "metadata": {},
   "outputs": [],
   "source": []
  }
 ],
 "metadata": {
  "kernelspec": {
   "display_name": "Python 3.8.5 32-bit",
   "language": "python",
   "name": "python3"
  },
  "language_info": {
   "codemirror_mode": {
    "name": "ipython",
    "version": 3
   },
   "file_extension": ".py",
   "mimetype": "text/x-python",
   "name": "python",
   "nbconvert_exporter": "python",
   "pygments_lexer": "ipython3",
   "version": "3.8.5"
  },
  "vscode": {
   "interpreter": {
    "hash": "e417eef5ef023475f3aa02363265b33ad1e9ce3908697ca825a0af185700de67"
   }
  }
 },
 "nbformat": 4,
 "nbformat_minor": 5
}
