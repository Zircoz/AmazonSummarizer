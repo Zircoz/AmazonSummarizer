{
 "cells": [
  {
   "cell_type": "code",
   "execution_count": 18,
   "id": "deba729d",
   "metadata": {},
   "outputs": [],
   "source": [
    "import hashlib\n",
    "import pandas as pd"
   ]
  },
  {
   "cell_type": "code",
   "execution_count": 2,
   "id": "d5e4afcf",
   "metadata": {},
   "outputs": [],
   "source": [
    "RetailOrderHistDF = pd.read_csv(\"inputFiles/RetailOrderHistory.csv\")"
   ]
  },
  {
   "cell_type": "code",
   "execution_count": 40,
   "id": "b60e4472",
   "metadata": {},
   "outputs": [],
   "source": [
    "#Enter the column who's 1 sample is needed\n",
    "df_test = RetailOrderHistDF.drop_duplicates(['Website','Product Condition', \"Shipping Address\", \"Billing Address\"]).reset_index()\n",
    "\n",
    "#Personally Identifiable Info (Name, addresses, Gift related columns)\n",
    "#DO NOT HASH COLUMNS OF PRICES, DISCOUNTS, TAX, CURRENCY, DATE, WEBSITE\n",
    "toBeHashed = [\"Order ID\", \"Shipping Address\", \"Billing Address\", \"Carrier Name & Tracking Number\", \"Gift Message\" ,\"Gift Sender Name\",\"Gift Recipient Contact Details\"]\n",
    "def turnToSHA256(s):\n",
    "    for i in toBeHashed:\n",
    "        #print(i)\n",
    "        s[i] = hashlib.sha256(str(s[i]).encode(\"utf-8\")).hexdigest()\n",
    "    return s\n",
    "df_test = df_test.apply(turnToSHA256, axis=1)"
   ]
  },
  {
   "cell_type": "code",
   "execution_count": 41,
   "id": "053468ae",
   "metadata": {},
   "outputs": [],
   "source": [
    "#save the hashed csv\n",
    "#Change file name\n",
    ".df_test.to_csv(\"hashed csv files/<enter your file name>\")"
   ]
  },
  {
   "cell_type": "code",
   "execution_count": 42,
   "id": "f3b6f3a9",
   "metadata": {},
   "outputs": [
    {
     "name": "stdout",
     "output_type": "stream",
     "text": [
      "<class 'pandas.core.frame.DataFrame'>\n",
      "RangeIndex: 372 entries, 0 to 371\n",
      "Data columns (total 27 columns):\n",
      " #   Column                          Non-Null Count  Dtype  \n",
      "---  ------                          --------------  -----  \n",
      " 0   Website                         372 non-null    object \n",
      " 1   Order ID                        372 non-null    object \n",
      " 2   Order Date                      372 non-null    object \n",
      " 3   Purchase Order Number           0 non-null      float64\n",
      " 4   Currency                        372 non-null    object \n",
      " 5   Unit Price                      372 non-null    object \n",
      " 6   Unit Price Tax                  372 non-null    object \n",
      " 7   Shipping Charge                 372 non-null    float64\n",
      " 8   Total Discounts                 372 non-null    object \n",
      " 9   Total Owed                      372 non-null    object \n",
      " 10  Shipment Item Subtotal          321 non-null    object \n",
      " 11  Shipment Item Subtotal Tax      321 non-null    object \n",
      " 12  ASIN                            372 non-null    object \n",
      " 13  Product Condition               372 non-null    object \n",
      " 14  Quantity                        372 non-null    int64  \n",
      " 15  Payment Instrument Type         208 non-null    object \n",
      " 16  Order Status                    372 non-null    object \n",
      " 17  Shipment Status                 321 non-null    object \n",
      " 18  Ship Date                       321 non-null    object \n",
      " 19  Shipping Option                 322 non-null    object \n",
      " 20  Shipping Address                320 non-null    object \n",
      " 21  Billing Address                 354 non-null    object \n",
      " 22  Carrier Name & Tracking Number  318 non-null    object \n",
      " 23  Product Name                    372 non-null    object \n",
      " 24  Gift Message                    13 non-null     object \n",
      " 25  Gift Sender Name                0 non-null      float64\n",
      " 26  Gift Recipient Contact Details  0 non-null      float64\n",
      "dtypes: float64(4), int64(1), object(22)\n",
      "memory usage: 78.6+ KB\n"
     ]
    }
   ],
   "source": [
    "RetailOrderHistDF.info()"
   ]
  },
  {
   "cell_type": "code",
   "execution_count": 43,
   "id": "327fbd4a",
   "metadata": {},
   "outputs": [
    {
     "name": "stdout",
     "output_type": "stream",
     "text": [
      "<class 'pandas.core.frame.DataFrame'>\n",
      "RangeIndex: 78 entries, 0 to 77\n",
      "Data columns (total 28 columns):\n",
      " #   Column                          Non-Null Count  Dtype  \n",
      "---  ------                          --------------  -----  \n",
      " 0   index                           78 non-null     int64  \n",
      " 1   Website                         78 non-null     object \n",
      " 2   Order ID                        78 non-null     object \n",
      " 3   Order Date                      78 non-null     object \n",
      " 4   Purchase Order Number           0 non-null      float64\n",
      " 5   Currency                        78 non-null     object \n",
      " 6   Unit Price                      78 non-null     object \n",
      " 7   Unit Price Tax                  78 non-null     object \n",
      " 8   Shipping Charge                 78 non-null     float64\n",
      " 9   Total Discounts                 78 non-null     object \n",
      " 10  Total Owed                      78 non-null     object \n",
      " 11  Shipment Item Subtotal          72 non-null     object \n",
      " 12  Shipment Item Subtotal Tax      72 non-null     object \n",
      " 13  ASIN                            78 non-null     object \n",
      " 14  Product Condition               78 non-null     object \n",
      " 15  Quantity                        78 non-null     int64  \n",
      " 16  Payment Instrument Type         46 non-null     object \n",
      " 17  Order Status                    78 non-null     object \n",
      " 18  Shipment Status                 72 non-null     object \n",
      " 19  Ship Date                       72 non-null     object \n",
      " 20  Shipping Option                 71 non-null     object \n",
      " 21  Shipping Address                78 non-null     object \n",
      " 22  Billing Address                 78 non-null     object \n",
      " 23  Carrier Name & Tracking Number  78 non-null     object \n",
      " 24  Product Name                    78 non-null     object \n",
      " 25  Gift Message                    78 non-null     object \n",
      " 26  Gift Sender Name                78 non-null     object \n",
      " 27  Gift Recipient Contact Details  78 non-null     object \n",
      "dtypes: float64(2), int64(2), object(24)\n",
      "memory usage: 17.2+ KB\n"
     ]
    }
   ],
   "source": [
    "df_test.info()"
   ]
  },
  {
   "cell_type": "code",
   "execution_count": null,
   "id": "77ce496f",
   "metadata": {},
   "outputs": [],
   "source": []
  }
 ],
 "metadata": {
  "kernelspec": {
   "display_name": "Python 3 (ipykernel)",
   "language": "python",
   "name": "python3"
  },
  "language_info": {
   "codemirror_mode": {
    "name": "ipython",
    "version": 3
   },
   "file_extension": ".py",
   "mimetype": "text/x-python",
   "name": "python",
   "nbconvert_exporter": "python",
   "pygments_lexer": "ipython3",
   "version": "3.10.6"
  }
 },
 "nbformat": 4,
 "nbformat_minor": 5
}
